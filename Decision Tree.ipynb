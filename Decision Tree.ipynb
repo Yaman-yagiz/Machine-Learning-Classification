{
 "cells": [
  {
   "cell_type": "code",
   "execution_count": 1,
   "id": "60d688b9",
   "metadata": {},
   "outputs": [],
   "source": [
    "import pandas as pd\n",
    "import numpy as np"
   ]
  },
  {
   "cell_type": "code",
   "execution_count": 2,
   "id": "f1aeae62",
   "metadata": {},
   "outputs": [],
   "source": [
    "data=pd.read_csv(\"veriler.csv\")"
   ]
  },
  {
   "cell_type": "code",
   "execution_count": 3,
   "id": "b196791b",
   "metadata": {},
   "outputs": [],
   "source": [
    "from sklearn import preprocessing\n",
    "le=preprocessing.LabelEncoder()\n",
    "\n",
    "ulke=data.iloc[:,0:1].values\n",
    "ohe=preprocessing.OneHotEncoder()\n",
    "ulke=ohe.fit_transform(ulke).toarray()\n",
    "df_ulke=pd.DataFrame(ulke,columns=['fr','tr','us'])\n",
    "\n",
    "boy_kilo_yas=data.iloc[:,1:4].values\n",
    "df=pd.DataFrame(boy_kilo_yas,columns=['boy','kilo','yas'])\n",
    "\n",
    "frames=[df_ulke,df,data['cinsiyet']]\n",
    "result = pd.concat(frames,axis=1)"
   ]
  },
  {
   "cell_type": "code",
   "execution_count": 4,
   "id": "3a51e84e",
   "metadata": {},
   "outputs": [],
   "source": [
    "from sklearn.model_selection import train_test_split\n",
    "X=result.iloc[:,0:6].values\n",
    "Y=result.iloc[:,-1].values\n",
    "x_train,x_test,y_train,y_test=train_test_split(X,Y,test_size=0.33,random_state=0)"
   ]
  },
  {
   "cell_type": "code",
   "execution_count": 5,
   "id": "40ec374b",
   "metadata": {},
   "outputs": [],
   "source": [
    "# Scale işlemi Decision Tree'de SONUCU ETKİLEMEZ\n",
    "from sklearn.preprocessing import StandardScaler\n",
    "sc=StandardScaler()\n",
    "X_train=sc.fit_transform(x_train)\n",
    "X_test=sc.transform(x_test)"
   ]
  },
  {
   "cell_type": "code",
   "execution_count": 6,
   "id": "00aa9d95",
   "metadata": {},
   "outputs": [],
   "source": [
    "from sklearn.tree import DecisionTreeClassifier\n",
    "dtc=DecisionTreeClassifier(criterion='entropy') # default olarak criterion='gini' şeklindedir."
   ]
  },
  {
   "cell_type": "code",
   "execution_count": 7,
   "id": "c059f63f",
   "metadata": {},
   "outputs": [],
   "source": [
    "dtc.fit(X_train,y_train)\n",
    "y_pred=dtc.predict(X_test)"
   ]
  },
  {
   "cell_type": "code",
   "execution_count": 8,
   "id": "d7c65c8d",
   "metadata": {},
   "outputs": [
    {
     "data": {
      "text/plain": [
       "(array(['e', 'k', 'k', 'k', 'e', 'k', 'k', 'k'], dtype=object),\n",
       " array(['k', 'k', 'k', 'k', 'e', 'k', 'k', 'k'], dtype=object))"
      ]
     },
     "execution_count": 8,
     "metadata": {},
     "output_type": "execute_result"
    }
   ],
   "source": [
    "y_pred,y_test"
   ]
  },
  {
   "cell_type": "code",
   "execution_count": 9,
   "id": "dc33bc79",
   "metadata": {},
   "outputs": [
    {
     "data": {
      "text/plain": [
       "array([[1, 0],\n",
       "       [1, 6]], dtype=int64)"
      ]
     },
     "execution_count": 9,
     "metadata": {},
     "output_type": "execute_result"
    }
   ],
   "source": [
    "from sklearn.metrics import confusion_matrix\n",
    "cm=confusion_matrix(y_test,y_pred)\n",
    "cm"
   ]
  }
 ],
 "metadata": {
  "kernelspec": {
   "display_name": "Python 3",
   "language": "python",
   "name": "python3"
  },
  "language_info": {
   "codemirror_mode": {
    "name": "ipython",
    "version": 3
   },
   "file_extension": ".py",
   "mimetype": "text/x-python",
   "name": "python",
   "nbconvert_exporter": "python",
   "pygments_lexer": "ipython3",
   "version": "3.8.8"
  }
 },
 "nbformat": 4,
 "nbformat_minor": 5
}
