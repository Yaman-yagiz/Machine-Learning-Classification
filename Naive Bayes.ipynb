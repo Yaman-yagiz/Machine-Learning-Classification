{
 "cells": [
  {
   "cell_type": "markdown",
   "id": "8f0f0360",
   "metadata": {},
   "source": [
    "#### Navie Bayes sınıflandırma yaparken özniteliklerin target ile arasındaki her bir durum için olasıklıklarını hesaplar. Koşullu olasılık kavramını kullanır.\n"
   ]
  },
  {
   "cell_type": "markdown",
   "id": "80646dd1",
   "metadata": {},
   "source": [
    "* Tahmin edilecek sınıf sürekli bir değerse (reel sayılar vb..) Gaussian navie bayes kullanabilir.\n",
    "* Tahmin edilecek sınıf nominal ise (çok sınıflı olabilir) Multinomial navie bayes kullanılabilir.\n",
    "* Tahmin edilecek sınıf 1/0 gibi sadece ikili sınıflandırma ise Bernoulli navie bayes kullanılabilir"
   ]
  },
  {
   "cell_type": "code",
   "execution_count": 1,
   "id": "c3f0d3f3",
   "metadata": {},
   "outputs": [],
   "source": [
    "import pandas as pd\n",
    "import numpy as np"
   ]
  },
  {
   "cell_type": "code",
   "execution_count": 2,
   "id": "65b81127",
   "metadata": {},
   "outputs": [],
   "source": [
    "data=pd.read_csv(\"veriler.csv\")"
   ]
  },
  {
   "cell_type": "code",
   "execution_count": 3,
   "id": "64118af5",
   "metadata": {},
   "outputs": [],
   "source": [
    "from sklearn import preprocessing\n",
    "le=preprocessing.LabelEncoder()\n",
    "\n",
    "ulke=data.iloc[:,0:1].values\n",
    "ohe=preprocessing.OneHotEncoder()\n",
    "ulke=ohe.fit_transform(ulke).toarray()\n",
    "df_ulke=pd.DataFrame(ulke,columns=['fr','tr','us'])\n",
    "\n",
    "boy_kilo_yas=data.iloc[:,1:4].values\n",
    "df=pd.DataFrame(boy_kilo_yas,columns=['boy','kilo','yas'])\n",
    "\n",
    "frames=[df_ulke,df,data['cinsiyet']]\n",
    "result = pd.concat(frames,axis=1)"
   ]
  },
  {
   "cell_type": "code",
   "execution_count": 30,
   "id": "2cb8b20a",
   "metadata": {},
   "outputs": [],
   "source": [
    "from sklearn.model_selection import train_test_split\n",
    "X=result.iloc[:,0:6].values\n",
    "Y=result.iloc[:,-1].values\n",
    "x_train,x_test,y_train,y_test=train_test_split(X,Y,test_size=0.33,random_state=0)"
   ]
  },
  {
   "cell_type": "code",
   "execution_count": 43,
   "id": "d6b976bc",
   "metadata": {},
   "outputs": [],
   "source": [
    "# Scale\n",
    "from sklearn.preprocessing import StandardScaler\n",
    "sc=StandardScaler()\n",
    "X_train=sc.fit_transform(x_train)\n",
    "X_test=sc.transform(x_test)"
   ]
  },
  {
   "cell_type": "code",
   "execution_count": 49,
   "id": "ed05ea98",
   "metadata": {},
   "outputs": [],
   "source": [
    "from sklearn.naive_bayes import GaussianNB,MultinomialNB,BernoulliNB\n",
    "gnb=GaussianNB()\n",
    "gnb2=BernoulliNB()\n",
    "gnb3=MultinomialNB()"
   ]
  },
  {
   "cell_type": "code",
   "execution_count": 50,
   "id": "d216c1e0",
   "metadata": {},
   "outputs": [
    {
     "data": {
      "text/plain": [
       "MultinomialNB()"
      ]
     },
     "execution_count": 50,
     "metadata": {},
     "output_type": "execute_result"
    }
   ],
   "source": [
    "gnb.fit(X_train,y_train)\n",
    "gnb2.fit(X_train,y_train)\n",
    "gnb3.fit(x_train,y_train)"
   ]
  },
  {
   "cell_type": "code",
   "execution_count": 51,
   "id": "16a07065",
   "metadata": {},
   "outputs": [],
   "source": [
    "y_pred=gnb.predict(X_test)\n",
    "y_pred2=gnb2.predict(X_test)\n",
    "y_pred3=gnb3.predict(x_test)"
   ]
  },
  {
   "cell_type": "code",
   "execution_count": 52,
   "id": "a8f17c53",
   "metadata": {},
   "outputs": [],
   "source": [
    "from sklearn.metrics import confusion_matrix\n",
    "cm=confusion_matrix(y_test,y_pred)\n",
    "cm2=confusion_matrix(y_test,y_pred2)\n",
    "cm3=confusion_matrix(y_test,y_pred3)"
   ]
  },
  {
   "cell_type": "code",
   "execution_count": 53,
   "id": "d7437f0e",
   "metadata": {},
   "outputs": [
    {
     "name": "stdout",
     "output_type": "stream",
     "text": [
      "GaussianNB\n",
      " [[0 1]\n",
      " [3 4]]\n",
      "BernoulliNB\n",
      " [[0 1]\n",
      " [4 3]]\n",
      "MultinomialNB\n",
      " [[0 1]\n",
      " [4 3]]\n"
     ]
    },
    {
     "data": {
      "text/plain": [
       "(None, None, None)"
      ]
     },
     "execution_count": 53,
     "metadata": {},
     "output_type": "execute_result"
    }
   ],
   "source": [
    "print('GaussianNB\\n',cm),print('BernoulliNB\\n',cm2),print('MultinomialNB\\n',cm3)"
   ]
  },
  {
   "cell_type": "code",
   "execution_count": null,
   "id": "ffe369f6",
   "metadata": {},
   "outputs": [],
   "source": []
  }
 ],
 "metadata": {
  "kernelspec": {
   "display_name": "Python 3",
   "language": "python",
   "name": "python3"
  },
  "language_info": {
   "codemirror_mode": {
    "name": "ipython",
    "version": 3
   },
   "file_extension": ".py",
   "mimetype": "text/x-python",
   "name": "python",
   "nbconvert_exporter": "python",
   "pygments_lexer": "ipython3",
   "version": "3.8.8"
  }
 },
 "nbformat": 4,
 "nbformat_minor": 5
}
