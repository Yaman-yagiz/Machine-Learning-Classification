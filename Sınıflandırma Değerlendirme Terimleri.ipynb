{
 "cells": [
  {
   "cell_type": "code",
   "execution_count": 1,
   "id": "e483c969",
   "metadata": {},
   "outputs": [],
   "source": [
    "import pandas as pd"
   ]
  },
  {
   "cell_type": "code",
   "execution_count": 2,
   "id": "83cb775b",
   "metadata": {},
   "outputs": [
    {
     "data": {
      "text/html": [
       "<div>\n",
       "<style scoped>\n",
       "    .dataframe tbody tr th:only-of-type {\n",
       "        vertical-align: middle;\n",
       "    }\n",
       "\n",
       "    .dataframe tbody tr th {\n",
       "        vertical-align: top;\n",
       "    }\n",
       "\n",
       "    .dataframe thead th {\n",
       "        text-align: right;\n",
       "    }\n",
       "</style>\n",
       "<table border=\"1\" class=\"dataframe\">\n",
       "  <thead>\n",
       "    <tr style=\"text-align: right;\">\n",
       "      <th></th>\n",
       "      <th>C1</th>\n",
       "      <th>C2</th>\n",
       "    </tr>\n",
       "  </thead>\n",
       "  <tbody>\n",
       "    <tr>\n",
       "      <th>C1</th>\n",
       "      <td>True Positive</td>\n",
       "      <td>False Negative</td>\n",
       "    </tr>\n",
       "    <tr>\n",
       "      <th>C2</th>\n",
       "      <td>False Positive</td>\n",
       "      <td>True Negative</td>\n",
       "    </tr>\n",
       "  </tbody>\n",
       "</table>\n",
       "</div>"
      ],
      "text/plain": [
       "                C1              C2\n",
       "C1   True Positive  False Negative\n",
       "C2  False Positive   True Negative"
      ]
     },
     "execution_count": 2,
     "metadata": {},
     "output_type": "execute_result"
    }
   ],
   "source": [
    "a = {'C1': ['True Positive', 'False Positive'], 'C2': ['False Negative','True Negative']}\n",
    "confusion_matrix=pd.DataFrame(data=a,index=['C1','C2'])\n",
    "confusion_matrix"
   ]
  },
  {
   "cell_type": "code",
   "execution_count": 3,
   "id": "4f01a128",
   "metadata": {},
   "outputs": [
    {
     "data": {
      "text/html": [
       "<div>\n",
       "<style scoped>\n",
       "    .dataframe tbody tr th:only-of-type {\n",
       "        vertical-align: middle;\n",
       "    }\n",
       "\n",
       "    .dataframe tbody tr th {\n",
       "        vertical-align: top;\n",
       "    }\n",
       "\n",
       "    .dataframe thead th {\n",
       "        text-align: right;\n",
       "    }\n",
       "</style>\n",
       "<table border=\"1\" class=\"dataframe\">\n",
       "  <thead>\n",
       "    <tr style=\"text-align: right;\">\n",
       "      <th></th>\n",
       "      <th>buy_computer = yes</th>\n",
       "      <th>buy_computer = no</th>\n",
       "      <th>total</th>\n",
       "      <th>recognition(%)</th>\n",
       "    </tr>\n",
       "  </thead>\n",
       "  <tbody>\n",
       "    <tr>\n",
       "      <th>buy_computer = yes</th>\n",
       "      <td>6950</td>\n",
       "      <td>50</td>\n",
       "      <td>7000</td>\n",
       "      <td>99.28</td>\n",
       "    </tr>\n",
       "    <tr>\n",
       "      <th>buy_computer = no</th>\n",
       "      <td>400</td>\n",
       "      <td>2600</td>\n",
       "      <td>3000</td>\n",
       "      <td>86.66</td>\n",
       "    </tr>\n",
       "    <tr>\n",
       "      <th>total</th>\n",
       "      <td>7350</td>\n",
       "      <td>2650</td>\n",
       "      <td>10000</td>\n",
       "      <td>95.55</td>\n",
       "    </tr>\n",
       "  </tbody>\n",
       "</table>\n",
       "</div>"
      ],
      "text/plain": [
       "                    buy_computer = yes  buy_computer = no  total  \\\n",
       "buy_computer = yes                6950                 50   7000   \n",
       "buy_computer = no                  400               2600   3000   \n",
       "total                             7350               2650  10000   \n",
       "\n",
       "                    recognition(%)  \n",
       "buy_computer = yes           99.28  \n",
       "buy_computer = no            86.66  \n",
       "total                        95.55  "
      ]
     },
     "execution_count": 3,
     "metadata": {},
     "output_type": "execute_result"
    }
   ],
   "source": [
    "d = {'buy_computer = yes': [6950, 400,7350], 'buy_computer = no': [50,2600,2650], 'total':[7000,3000,10000], 'recognition(%)':\\\n",
    "    [99.28,86.66,95.55]}\n",
    "confusion_matrix=pd.DataFrame(data=d,index=['buy_computer = yes','buy_computer = no','total'])\n",
    "confusion_matrix"
   ]
  },
  {
   "cell_type": "markdown",
   "id": "df171bf5",
   "metadata": {},
   "source": [
    "* Accuracy: 6950 + 2600 / 1000 ya da sensitivity * pos / (pos + neg) + specificity * neg / (pos + neg)\n",
    "* Error rate: 1 - Accuracy\n",
    "* Sensitivity: t-pos / (t-pos + f-neg) -----> True positive recognition rate\n",
    "* Specificity: t-neg / (t-neg + f-pos) -----> True negative recognition rate\n",
    "* Precision: t-pos / (t-pos + f-pos)"
   ]
  },
  {
   "cell_type": "markdown",
   "id": "090074f8",
   "metadata": {},
   "source": [
    "* Accuracy: Kaç doğru sınıflandırma var ?\n",
    "    - (t-pos + t-neg) / total = (6950 + 2600) / 10000 = 0.95\n",
    "* Missclassification Rate: Kaç yanlış sınıflandırma var ?\n",
    "    - (f-pos + f-neg) / total = (400 + 50) / 10000 = 0.045\n",
    "    - 1 - Accuracy = 0.045\n",
    "* True Positive Rate: Gerçekte YES ise kaç tanesi doğru sınıflandırılmış ?\n",
    "    - t-pos / actual yes = 6950 / 7000 = 0.99\n",
    "    - Recall veya Sensitivity olarak da adlandırılır.\n",
    "* False Positive Rate: Tahmin NO ise kaç tanesi doğru sınıflandırılmış ?\n",
    "    - f-pos / actual no = 400 / 3000 = 0.13\n",
    "* Specificity: Gerçekte NO ise kaç tanesi doğru sınıflandırılmış ?\n",
    "    - t-pos / actual no = 2600 / 3000 = 0.86\n",
    "    - 1 - f-pos rate olarak da hesaplanabilir.\n",
    "* Precision: Tahmin YES ise kaç tanesi doğru sınıflandırılmış ?\n",
    "    - t-pos / predicted yes = 6950 / 7350 = 0.94\n",
    "* Prevalence: Gerçekteki YES dağılımı oranı:\n",
    "    - acutal yes / total = 7000 / 10000 = 0.70"
   ]
  },
  {
   "cell_type": "code",
   "execution_count": null,
   "id": "d5204a8b",
   "metadata": {},
   "outputs": [],
   "source": []
  }
 ],
 "metadata": {
  "kernelspec": {
   "display_name": "Python 3",
   "language": "python",
   "name": "python3"
  },
  "language_info": {
   "codemirror_mode": {
    "name": "ipython",
    "version": 3
   },
   "file_extension": ".py",
   "mimetype": "text/x-python",
   "name": "python",
   "nbconvert_exporter": "python",
   "pygments_lexer": "ipython3",
   "version": "3.8.8"
  }
 },
 "nbformat": 4,
 "nbformat_minor": 5
}
